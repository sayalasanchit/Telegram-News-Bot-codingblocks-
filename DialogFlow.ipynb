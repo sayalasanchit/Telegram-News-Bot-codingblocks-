{
 "cells": [
  {
   "cell_type": "code",
   "execution_count": 1,
   "metadata": {},
   "outputs": [],
   "source": [
    "import os\n",
    "os.environ['GOOGLE_APPLICATION_CREDENTIALS']=\"client.json\""
   ]
  },
  {
   "cell_type": "code",
   "execution_count": 2,
   "metadata": {},
   "outputs": [],
   "source": [
    "import dialogflow_v2 as dialogflow\n",
    "dialogflow_session_client=dialogflow.SessionsClient()\n",
    "PROJECT_ID=\"newsbot-uqojka\""
   ]
  },
  {
   "cell_type": "code",
   "execution_count": 3,
   "metadata": {},
   "outputs": [],
   "source": [
    "def detect_intent_from_text(text, session_id, language_code='en'):\n",
    "    session=dialogflow_session_client.session_path(PROJECT_ID, session_id)\n",
    "    text_input=dialogflow.types.TextInput(text=text, language_code=language_code)\n",
    "    query_input=dialogflow.types.QueryInput(text=text_input)\n",
    "    response=dialogflow_session_client.detect_intent(session=session, query_input=query_input)\n",
    "    return response.query_result"
   ]
  },
  {
   "cell_type": "code",
   "execution_count": 4,
   "metadata": {},
   "outputs": [],
   "source": [
    "response=detect_intent_from_text(\"Hello\", 54321)"
   ]
  },
  {
   "cell_type": "code",
   "execution_count": 5,
   "metadata": {},
   "outputs": [
    {
     "data": {
      "text/plain": [
       "query_text: \"Hello\"\n",
       "action: \"input.welcome\"\n",
       "parameters {\n",
       "}\n",
       "all_required_params_present: true\n",
       "fulfillment_text: \"Hello! How can I help you?\"\n",
       "fulfillment_messages {\n",
       "  text {\n",
       "    text: \"Hello! How can I help you?\"\n",
       "  }\n",
       "}\n",
       "intent {\n",
       "  name: \"projects/newsbot-uqojka/agent/intents/4f9ad4b1-81b2-412e-a5b2-a57e8b685484\"\n",
       "  display_name: \"Default Welcome Intent\"\n",
       "}\n",
       "intent_detection_confidence: 1.0\n",
       "language_code: \"en\""
      ]
     },
     "execution_count": 5,
     "metadata": {},
     "output_type": "execute_result"
    }
   ],
   "source": [
    "response"
   ]
  },
  {
   "cell_type": "code",
   "execution_count": 6,
   "metadata": {},
   "outputs": [
    {
     "data": {
      "text/plain": [
       "'Hello! How can I help you?'"
      ]
     },
     "execution_count": 6,
     "metadata": {},
     "output_type": "execute_result"
    }
   ],
   "source": [
    "response.fulfillment_text"
   ]
  },
  {
   "cell_type": "code",
   "execution_count": 7,
   "metadata": {},
   "outputs": [],
   "source": [
    "response=detect_intent_from_text(\"Bring me sports news from India in gujrati\", 12345)"
   ]
  },
  {
   "cell_type": "code",
   "execution_count": 8,
   "metadata": {},
   "outputs": [
    {
     "data": {
      "text/plain": [
       "query_text: \"Bring me sports news from India in gujrati\"\n",
       "parameters {\n",
       "  fields {\n",
       "    key: \"geo-country\"\n",
       "    value {\n",
       "      string_value: \"India\"\n",
       "    }\n",
       "  }\n",
       "  fields {\n",
       "    key: \"language\"\n",
       "    value {\n",
       "      string_value: \"Gujrati\"\n",
       "    }\n",
       "  }\n",
       "  fields {\n",
       "    key: \"topic\"\n",
       "    value {\n",
       "      string_value: \"Sports\"\n",
       "    }\n",
       "  }\n",
       "}\n",
       "all_required_params_present: true\n",
       "fulfillment_messages {\n",
       "  text {\n",
       "    text: \"\"\n",
       "  }\n",
       "}\n",
       "intent {\n",
       "  name: \"projects/newsbot-uqojka/agent/intents/25b2632f-170a-41dd-88a7-689666d265d5\"\n",
       "  display_name: \"get_news\"\n",
       "}\n",
       "intent_detection_confidence: 0.87150174\n",
       "language_code: \"en\""
      ]
     },
     "execution_count": 8,
     "metadata": {},
     "output_type": "execute_result"
    }
   ],
   "source": [
    "response"
   ]
  },
  {
   "cell_type": "code",
   "execution_count": 9,
   "metadata": {},
   "outputs": [
    {
     "data": {
      "text/plain": [
       "name: \"projects/newsbot-uqojka/agent/intents/25b2632f-170a-41dd-88a7-689666d265d5\"\n",
       "display_name: \"get_news\""
      ]
     },
     "execution_count": 9,
     "metadata": {},
     "output_type": "execute_result"
    }
   ],
   "source": [
    "response.intent"
   ]
  },
  {
   "cell_type": "code",
   "execution_count": 10,
   "metadata": {},
   "outputs": [
    {
     "data": {
      "text/plain": [
       "'get_news'"
      ]
     },
     "execution_count": 10,
     "metadata": {},
     "output_type": "execute_result"
    }
   ],
   "source": [
    "response.intent.display_name"
   ]
  },
  {
   "cell_type": "code",
   "execution_count": 11,
   "metadata": {},
   "outputs": [
    {
     "data": {
      "text/plain": [
       "fields {\n",
       "  key: \"geo-country\"\n",
       "  value {\n",
       "    string_value: \"India\"\n",
       "  }\n",
       "}\n",
       "fields {\n",
       "  key: \"language\"\n",
       "  value {\n",
       "    string_value: \"Gujrati\"\n",
       "  }\n",
       "}\n",
       "fields {\n",
       "  key: \"topic\"\n",
       "  value {\n",
       "    string_value: \"Sports\"\n",
       "  }\n",
       "}"
      ]
     },
     "execution_count": 11,
     "metadata": {},
     "output_type": "execute_result"
    }
   ],
   "source": [
    "response.parameters"
   ]
  },
  {
   "cell_type": "code",
   "execution_count": 12,
   "metadata": {},
   "outputs": [
    {
     "data": {
      "text/plain": [
       "{'geo-country': 'India', 'language': 'Gujrati', 'topic': 'Sports'}"
      ]
     },
     "execution_count": 12,
     "metadata": {},
     "output_type": "execute_result"
    }
   ],
   "source": [
    "dict(response.parameters)"
   ]
  },
  {
   "cell_type": "code",
   "execution_count": null,
   "metadata": {},
   "outputs": [],
   "source": []
  }
 ],
 "metadata": {
  "kernelspec": {
   "display_name": "Python 3",
   "language": "python",
   "name": "python3"
  },
  "language_info": {
   "codemirror_mode": {
    "name": "ipython",
    "version": 3
   },
   "file_extension": ".py",
   "mimetype": "text/x-python",
   "name": "python",
   "nbconvert_exporter": "python",
   "pygments_lexer": "ipython3",
   "version": "3.8.5"
  }
 },
 "nbformat": 4,
 "nbformat_minor": 4
}
